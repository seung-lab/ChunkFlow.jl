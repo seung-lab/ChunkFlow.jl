{
 "metadata": {
  "name": ""
 },
 "nbformat": 3,
 "nbformat_minor": 0,
 "worksheets": [
  {
   "cells": [
    {
     "cell_type": "code",
     "collapsed": false,
     "input": [
      "Dir = '11_vol_data/'"
     ],
     "language": "python",
     "metadata": {},
     "outputs": [],
     "prompt_number": 74
    },
    {
     "cell_type": "code",
     "collapsed": false,
     "input": [
      "# read the channel\n",
      "import neupy.io\n",
      "reload(neupy.io)\n",
      "vol_chn = neupy.io.imread(Dir + '7nm-2500Pix.chann.h5')\n",
      "vol_seg = neupy.io.imread(Dir + '7nm-2500Pix.Th-900.Tl-300.Ts-400.Te-250.segm.h5')"
     ],
     "language": "python",
     "metadata": {},
     "outputs": [
      {
       "output_type": "stream",
       "stream": "stdout",
       "text": [
        "finished reading image stack :)\n",
        "finished reading image stack :)"
       ]
      },
      {
       "output_type": "stream",
       "stream": "stdout",
       "text": [
        "\n"
       ]
      }
     ],
     "prompt_number": 42
    },
    {
     "cell_type": "code",
     "collapsed": false,
     "input": [
      "vol_seg.dtype"
     ],
     "language": "python",
     "metadata": {},
     "outputs": [
      {
       "metadata": {},
       "output_type": "pyout",
       "prompt_number": 47,
       "text": [
        "dtype('uint32')"
       ]
      }
     ],
     "prompt_number": 47
    },
    {
     "cell_type": "raw",
     "metadata": {},
     "source": [
      "# 1-45, 41-85,81-125,121-165\n",
      "#vt = np.zeros_like(vol)\n",
      "\n",
      "# the four users\n",
      "#vt[0:45,:,:] = vol[0:45, :,:]\n",
      "#vt[40:85,:,:] = vol[40:85, :,:]\n",
      "#vt[80:125,:,:] = vol[80:125, :,:]\n",
      "#vt[120:165,:,:] = vol[120:165, :,:]\n",
      "\n",
      "#neupy.io.imsave(vt, '01_vol_data/user04.chann.h5')"
     ]
    },
    {
     "cell_type": "code",
     "collapsed": false,
     "input": [
      "# get the dendrogram\n",
      "import h5py\n",
      "f = h5py.File(Dir + '7nm-2500Pix.Th-900.Tl-300.Ts-400.Te-250.segm.h5')\n",
      "dend = np.asarray( f['/dend'] )\n",
      "dendValues = np.asarray( f['/dendValues'] )\n",
      "f.close()"
     ],
     "language": "python",
     "metadata": {},
     "outputs": [],
     "prompt_number": 86
    },
    {
     "cell_type": "code",
     "collapsed": false,
     "input": [
      "def mkdir_p(path):\n",
      "    \"\"\" 'mkdir -p' in Python \"\"\"\n",
      "    import os\n",
      "    import errno\n",
      "    try:\n",
      "        os.makedirs(path)\n",
      "    except OSError as exc:  # Python >2.5\n",
      "        if exc.errno == errno.EEXIST and os.path.isdir(path):\n",
      "            pass\n",
      "        else:\n",
      "            raise\n",
      "\n",
      "def write_for znn(Dir, vol, cid):\n",
      "    # make directory\n",
      "    mkdir_p(Dir )\n",
      "    mkdir_p(Dir + 'data')\n",
      "    mkdir_p(Dir + 'spec')\n",
      "    vol.tofile(Dir + 'data/' + 'batch'+str(cid)+'.image')\n",
      "    sz = np.asarray(vol.shape)\n",
      "    sz.tofile(Dir + 'data/' + 'batch'+str(cid)+'.size')\n",
      "    \n",
      "    # printf the batch.spec\n",
      "    f = open(Dir + 'spec/' + 'batch'+str(cid)+'.spec', 'w')\n",
      "    f.write('[INPUT1]\\n')\n",
      "    f.write('path=./dataset/piriform/data/batch'+str(cid)+'\\n')\n",
      "    f.write('ext=image\\n')\n",
      "    f.write('size='+str(sz[2])+','+str(sz[1])+','+str(sz[0])+'\\n')\n",
      "    f.write('pptype=standard2D\\n\\n')"
     ],
     "language": "python",
     "metadata": {},
     "outputs": [
      {
       "ename": "SyntaxError",
       "evalue": "invalid syntax (<ipython-input-90-6ca327b2aa36>, line 13)",
       "output_type": "pyerr",
       "traceback": [
        "\u001b[0;36m  File \u001b[0;32m\"<ipython-input-90-6ca327b2aa36>\"\u001b[0;36m, line \u001b[0;32m13\u001b[0m\n\u001b[0;31m    def write_for znn(Dir, vol):\u001b[0m\n\u001b[0m                    ^\u001b[0m\n\u001b[0;31mSyntaxError\u001b[0m\u001b[0;31m:\u001b[0m invalid syntax\n"
       ]
      }
     ],
     "prompt_number": 90
    },
    {
     "cell_type": "code",
     "collapsed": false,
     "input": [
      "def save_for_omnify(fname_chan, vc, fname_segm, vs, dend, dendValues):\n",
      "    f = h5py.File(fname_segm)\n",
      "    f.create_dataset('/dend', data=dend)\n",
      "    f.create_dataset('/dendValues', data=dendValues)\n",
      "    f.create_dataset('/main', data=vt, dtype='uint32')        \n",
      "    f.close()\n",
      "    \n",
      "    neupy.io.imsave(vc,fname_chann)\n",
      "    \n",
      "# chunk the volume in XY plane\n",
      "Nz,Ny,Nx = vol.shape\n",
      "# step size\n",
      "step = 460\n",
      "# overlap size\n",
      "ovlp = 8 #8,173\n",
      "# chunk ID\n",
      "cid = 0\n",
      "for x in range(1):#, Nx, step):\n",
      "    for y in range(1):#, Ny, step):\n",
      "        cid += 1\n",
      "        vc = vol_chn[:,y:y+step+ovlp,x:x+step+ovlp]\n",
      "        vs = vol_seg[:,y:y+step+ovlp,x:x+step+ovlp]\n",
      "        # write the data\n",
      "        fname_chann = Dir + 'chunk_'+str(cid)+'_X'+str(x)+'_Y'+str(y)+'.chann.h5'\n",
      "        fname_segm = Dir + 'chunk_'+str(cid)+'_X'+str(x)+'_Y'+str(y)+'.segm.h5'\n",
      "        save_for_omnify(fname_chann, vc, fname_segm, vs, dend, dendValues)\n",
      "        \n",
      "        # write for znn\n",
      "        #write_for znn(Dir+'piriform/', vc, cid)\n",
      "        "
     ],
     "language": "python",
     "metadata": {},
     "outputs": [
      {
       "output_type": "stream",
       "stream": "stdout",
       "text": [
        "hdf5 file was written :)\n"
       ]
      }
     ],
     "prompt_number": 102
    },
    {
     "cell_type": "code",
     "collapsed": false,
     "input": [
      "dend"
     ],
     "language": "python",
     "metadata": {},
     "outputs": [
      {
       "metadata": {},
       "output_type": "pyout",
       "prompt_number": 88,
       "text": [
        "array([[116486,  91018,  99976, ...,  94977,  89124, 101373],\n",
        "       [  7935,  91009, 108591, ...,  85724,  89137, 100733]], dtype=uint32)"
       ]
      }
     ],
     "prompt_number": 88
    }
   ],
   "metadata": {}
  }
 ]
}