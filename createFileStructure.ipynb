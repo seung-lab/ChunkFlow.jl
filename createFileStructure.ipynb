{
 "metadata": {
  "name": ""
 },
 "nbformat": 3,
 "nbformat_minor": 0,
 "worksheets": [
  {
   "cells": [
    {
     "cell_type": "code",
     "collapsed": false,
     "input": [
      "import math\n",
      "import numpy\n",
      "import h5py\n",
      "\n",
      "#Set this per node\n",
      "production = False\n",
      "if production:\n",
      "    memory = 200 * 1.7 #gb  I multiply by 1.7 because it was using 108gb\n",
      "    nthreads = 32 #virtual cores\n",
      "else:\n",
      "    memory = 40 #gb\n",
      "    nthreads = 8 #virtual cores"
     ],
     "language": "python",
     "metadata": {},
     "outputs": [],
     "prompt_number": 1
    },
    {
     "cell_type": "code",
     "collapsed": false,
     "input": [
      "#%% read hdf5 volume\n",
      "def imread( fname ):\n",
      "    if '.hdf5' in fname or '.h5' in fname:\n",
      "        fname = fname.replace(\".hdf5\", \"\")\n",
      "        f = h5py.File( fname )\n",
      "        v = numpy.asarray( f['/main'] )\n",
      "        f.close()\n",
      "        print 'finished reading image stack :)'\n",
      "        return v\n",
      "    elif '.tif' in fname:\n",
      "  \n",
      "        import tifffile\n",
      "        return tifffile.imread(fname)\n",
      "    else:\n",
      "        print 'file name error, only suport tif and hdf5 now!!!'\n",
      "        \n",
      "\n",
      "def array_for_znn(array,folderPath):\n",
      "    '''transform volume to znn format'''\n",
      "    \n",
      "\n",
      "\n",
      "    array.tofile(folderPath + 'input.image')\n",
      "    sz = numpy.asarray(array.shape).astype(numpy.uint32)\n",
      "    sz.tofile(folderPath + 'input.size')\n",
      "\n",
      "data  = imread('./tif/150217_elastic_on_old_sequential_affine_1_168.tif')\n",
      "data = data.astype(numpy.double)\n",
      "data = data.transpose()"
     ],
     "language": "python",
     "metadata": {},
     "outputs": [],
     "prompt_number": 2
    },
    {
     "cell_type": "code",
     "collapsed": false,
     "input": [
      "#dims = numpy.array([32000 , 32000 , 170])\n",
      "dims = data.shape\n",
      "FoV = numpy.array([173 , 173 ,9])\n",
      "overlap = numpy.ceil(FoV/2.0).astype(int)\n",
      "speed=7500\n",
      "\n",
      "\n",
      "divs = numpy.array([6, 6, 1])\n",
      "#We will create cubes of same size L\n",
      "realLongitude =  dims + overlap * 2 * (divs - 1)\n",
      "\n",
      "\n",
      "print realLongitude\n",
      "\n",
      "print \"it will take\" , numpy.prod(realLongitude)/numpy.prod(divs) / speed / 3600.0 , \" hours \"\n",
      "print \"with efficieny \",  numpy.prod(dims) / float(numpy.prod(realLongitude)) * 100.0 , \"%\""
     ],
     "language": "python",
     "metadata": {},
     "outputs": [
      {
       "output_type": "stream",
       "stream": "stdout",
       "text": [
        "[1494 1494  167]\n",
        "it will take 0.383333333333  hours \n",
        "with efficieny  17.4448799213 %\n"
       ]
      }
     ],
     "prompt_number": 3
    },
    {
     "cell_type": "code",
     "collapsed": false,
     "input": [
      "#Create an array of location\n",
      "xabs = 0\n",
      "cubes = []\n",
      "\n",
      "xLeft , xRight = 0,0 \n",
      "for xdiv in range(divs[0]):\n",
      "    \n",
      "    xDivSize = numpy.ceil(dims[0]/divs[0]).astype(int)\n",
      "    \n",
      "    if xdiv == 0: \n",
      "        xLeft = 0\n",
      "    else:\n",
      "        xLeft = xLeft + xDivSize -  overlap[0]\n",
      "    \n",
      "    if xdiv == divs[0]-1:\n",
      "        xRight = dims[0]\n",
      "    else:\n",
      "        xRight = xRight + xDivSize +  overlap[0]\n",
      "    \n",
      "    yTop, yBottom = 0,0\n",
      "    for ydiv in range(divs[1]): \n",
      "        \n",
      "        yDivSize = numpy.ceil(dims[1]/divs[1]).astype(int)\n",
      "        \n",
      "        if ydiv == 0: \n",
      "            yTop = 0\n",
      "        else:\n",
      "            yTop = yTop + yDivSize  -  overlap[1]\n",
      "        \n",
      "        if ydiv == divs[1]-1:\n",
      "            yBottom = dims[1]\n",
      "        else:\n",
      "            yBottom = yBottom + yDivSize +  overlap[1]\n",
      "    \n",
      "        filename = \"x\"+str(xdiv)+\"-y\"+str(ydiv)\n",
      "        cubes.append({'x-min': xLeft, 'x-max':xRight, 'y-min': yTop, 'y-max':yBottom, 'z-min':0 , 'z-max':dims[2],'filename':filename });"
     ],
     "language": "python",
     "metadata": {},
     "outputs": [],
     "prompt_number": 4
    },
    {
     "cell_type": "code",
     "collapsed": false,
     "input": [
      "if not production:\n",
      "    !rm -rf ./data\n",
      "\n",
      "import os\n",
      "import stat   \n",
      "\n",
      "if not os.path.exists('./data'):\n",
      "     os.makedirs('./data')\n",
      "else:\n",
      "     raise Exception('folder already exists')\n",
      "    \n",
      "    \n",
      "#Create bash file with all the jobs to be run\n",
      "jobs = open('./scheduleJobs.sh','w')\n",
      "#first compile znn\n",
      "# jobs.write('cd ./znn-release/\\n')\n",
      "# jobs.write('make\\n')\n",
      "# jobs.write('cd ../ \\n')\n",
      "\n",
      "\n",
      "#Divide the dataset\n",
      "for cube in cubes:\n",
      "    print cube\n",
      "    #divide_dataset()\n",
      "    cubePath = './data/'+cube['filename']\n",
      "    os.makedirs(cubePath)\n",
      "    \n",
      "    znn_input = numpy.array([cube['x-max']-cube['x-min'],cube['y-max']-cube['y-min'],cube['z-max']-cube['z-min']])\n",
      "    #Create data specification folder which contains the files for specifiying the dataset\n",
      "    #We have to files, because we run a 2 stage forward pass\n",
      "    os.makedirs(cubePath+'/data_spec')\n",
      "    \n",
      "    #Stage 1\n",
      "    template = \"\"\"[INPUT1]\n",
      "path={path_input}\n",
      "size={size}\n",
      "pptype=standard2D\"\"\"\n",
      "    \n",
      "    context = {\n",
      "     \"path_input\":'./data/{0}/input/input.image'.format(cube['filename']), \n",
      "     \"size\": '{0},{1},{2}'.format(cube['x-max']-cube['x-min'],cube['y-max']-cube['y-min'],cube['z-max']-cube['z-min'])\n",
      "     } \n",
      "    with  open(cubePath+'/data_spec/stage1.1.spec','w') as myfile:\n",
      "        myfile.write(template.format(**context))\n",
      "        \n",
      "    #Stage2\n",
      "    #We don't specify the size for the input 2 because,that's already specify in the output file\n",
      "    template = \"\"\"[INPUT1]\n",
      "path={path_input}\n",
      "size={size}\n",
      "pptype=standard2D\n",
      "\n",
      "[INPUT2]\n",
      "path={path_output_stage1}.1\n",
      "offset=54,54,0\n",
      "pptype=transform\n",
      "ppargs=-1,1\"\"\"\n",
      "    \n",
      "    context = {\n",
      "    \"path_input\":'./data/{0}/input/input.image'.format(cube['filename']), \n",
      "    \"size\": '{0},{1},{2}'.format(cube['x-max']-cube['x-min'],cube['y-max']-cube['y-min'],cube['z-max']-cube['z-min']),\n",
      "    \"path_output_stage1\":'./data/{0}/output/stage11'.format(cube['filename']),  #this is the path to outname\n",
      "    } \n",
      "    with  open(cubePath+'/data_spec/stage2.1.spec','w') as myfile:\n",
      "        myfile.write(template.format(**context))\n",
      "        \n",
      "    \n",
      "    \n",
      "    \n",
      "    #Create trainning specification folder which specifies the parameters for the forward pass\n",
      "    #Again we have two files because of the two stage forward pass\n",
      "    os.makedirs(cubePath+'/trainning_spec')\n",
      "    \n",
      "    #Stage 1\n",
      "    fov_stage = numpy.array([109,109,1])\n",
      "    outz = (fov_stage * (math.pow(memory/43.0 * 55696 *4 / numpy.prod(fov_stage),1/3.0) - 1)).astype(int)\n",
      "    \n",
      "    #Make sure the output is not larger that maximun, or less than 1\n",
      "    maxOut = znn_input - fov_stage + numpy.array([1,1,1])\n",
      "    outz[outz > maxOut] = maxOut[outz > maxOut]\n",
      "    \n",
      "    minOut = numpy.array([1,1,1])\n",
      "    outz[outz < minOut] = minOut[outz < minOut]\n",
      "\n",
      "    \n",
      "    template = \"\"\"[PATH]\n",
      "config={path_config}\n",
      "load={path_load}\n",
      "data={path_data}\n",
      "save={path_save}\n",
      "\n",
      "[OPTIMIZE]\n",
      "n_threads={threads}\n",
      "force_fft=1\n",
      "optimize_fft=0\n",
      "\n",
      "[TRAIN]\n",
      "test_range=1\n",
      "outsz={output_path_size}\n",
      "softmax=1\n",
      "\n",
      "[MONITOR]\n",
      "check_freq=10\n",
      "test_freq=100\n",
      "\n",
      "[SCAN]\n",
      "outname={outname}\"\"\"\n",
      "    \n",
      "    context = {\n",
      "    \"path_config\":'./network_spec/VeryDeep2_w109.spec', \n",
      "    \"path_load\":'./network_instance/VeryDeep2_w109/',\n",
      "    \"path_data\":'./data/{0}/data_spec/stage1.'.format(cube['filename']),\n",
      "    \"path_save\":'./data/{0}/output/'.format(cube['filename']),  #this is the path to outname\n",
      "    \"threads\":nthreads,\n",
      "    \"output_path_size\":'{0},{1},{2}'.format(outz[0],outz[1],outz[2]), \n",
      "    \"outname\":'stage1'\n",
      "    } \n",
      "    with  open(cubePath+'/trainning_spec/stage1.spec','w') as myfile:\n",
      "        myfile.write(template.format(**context))\n",
      "    \n",
      "    #Stage2\n",
      "    fov_stage = numpy.array([65,65,9])\n",
      "    outz = (fov_stage * (math.pow(memory/76.0 * 609725 / numpy.prod(fov_stage),1/3.0) - 1)).astype(int)\n",
      "    \n",
      "    #Make sure the output is not larger that maximun, or less than 1\n",
      "    maxOut = znn_input - fov_stage + numpy.array([1,1,1])\n",
      "    outz[outz > maxOut] = maxOut[outz > maxOut]\n",
      "    \n",
      "    minOut = numpy.array([1,1,1])\n",
      "    outz[outz < minOut] = minOut[outz < minOut]\n",
      "\n",
      "    \n",
      "    template = \"\"\"[PATH]\n",
      "config={path_config}\n",
      "load={path_load}\n",
      "data={path_data}\n",
      "save={path_save}\n",
      "\n",
      "[OPTIMIZE]\n",
      "n_threads={threads}\n",
      "force_fft=1\n",
      "optimize_fft=0\n",
      "\n",
      "[TRAIN]\n",
      "test_range=1\n",
      "outsz={output_path_size}\n",
      "softmax=0\n",
      "\n",
      "[MONITOR]\n",
      "check_freq=10\n",
      "test_freq=100\n",
      "\n",
      "[SCAN]\n",
      "outname={outname}\"\"\"\n",
      "    \n",
      "    context = {\n",
      "    \"path_config\":'./network_spec/VeryDeep2HR_w65x9.spec', \n",
      "    \"path_load\":'./network_instance/VeryDeep2HR_w65x9/',\n",
      "    \"path_data\":'./data/{0}/data_spec/stage2.'.format(cube['filename']),\n",
      "    \"path_save\":'./data/{0}/output/'.format(cube['filename']),  #this is the path to outname\n",
      "    \"threads\":nthreads,                                     #Make sure outz2 is at leat 1\n",
      "    \"output_path_size\":'{0},{1},{2}'.format(outz[0],outz[1],outz[2]) , \n",
      "    \"outname\":'stage2'\n",
      "    } \n",
      "    with  open(cubePath+'/trainning_spec/stage2.spec','w') as myfile:\n",
      "        myfile.write(template.format(**context))\n",
      "        \n",
      "    #create input and output folders\n",
      "    os.makedirs(cubePath+'/input')\n",
      "    os.makedirs(cubePath+'/output')\n",
      "\n",
      "    #Create a bash files which executes both trainning stages\n",
      "    #This run.sh will be assign to 1 node.\n",
      "    #If we schedule each stage separtely in the cluser, and we have more clusters that cubes\n",
      "    #it would be possible that the stage2 will start executing before the stage 1 finishes.\n",
      "    template = \"\"\"#!/bin/bash\n",
      "    ./znn-release/bin/znn --options={stage1} --test_only=1\n",
      "    ./znn-release/bin/znn --options={stage2} --test_only=1\n",
      "    \"\"\"\n",
      "    \n",
      "    context = {\n",
      "    \"stage1\":'./data/{0}/trainning_spec/stage1.spec'.format(cube['filename']), \n",
      "    \"stage2\":'./data/{0}/trainning_spec/stage2.spec'.format(cube['filename'])\n",
      "    } \n",
      "    with  open(cubePath+'/trainning_spec/run.sh','w') as myfile:\n",
      "        myfile.write(template.format(**context))\n",
      "    \n",
      "    #make this file executable\n",
      "    st = os.stat(cubePath+'/trainning_spec/run.sh')\n",
      "    os.chmod(cubePath+'/trainning_spec/run.sh', st.st_mode | 0111 )\n",
      "    \n",
      "    #add \n",
      "    if production:\n",
      "        jobs.write('qsub -V -b y -cwd ./data/{0}/trainning_spec/run.sh \\n'.format(cube['filename']))\n",
      "    else:\n",
      "        jobs.write('./data/{0}/trainning_spec/run.sh \\n'.format(cube['filename']))\n",
      "     \n",
      "    \n",
      "    #Chop input data \n",
      "    chopped = data[cube['x-min']:cube['x-max'] ,cube['y-min']:cube['y-max'] ,cube['z-min']:cube['z-max']]\n",
      "    array_for_znn(chopped,cubePath+'/input/')\n",
      "\n",
      "jobs.close()\n",
      "st = os.stat(jobs.name) \n",
      "os.chmod(jobs.name, st.st_mode | 0111 )"
     ],
     "language": "python",
     "metadata": {},
     "outputs": [
      {
       "output_type": "stream",
       "stream": "stdout",
       "text": [
        "{'z-min': 0, 'x-min': 0, 'x-max': 191, 'y-max': 191, 'filename': 'x0-y0', 'y-min': 0, 'z-max': 167}\n",
        "{'z-min': 0, 'x-min': 0, 'x-max': 191, 'y-max': 382, 'filename': 'x0-y1', 'y-min': 17, 'z-max': 167}"
       ]
      },
      {
       "output_type": "stream",
       "stream": "stdout",
       "text": [
        "\n",
        "{'z-min': 0, 'x-min': 0, 'x-max': 191, 'y-max': 573, 'filename': 'x0-y2', 'y-min': 34, 'z-max': 167}"
       ]
      },
      {
       "output_type": "stream",
       "stream": "stdout",
       "text": [
        "\n",
        "{'z-min': 0, 'x-min': 0, 'x-max': 191, 'y-max': 764, 'filename': 'x0-y3', 'y-min': 51, 'z-max': 167}"
       ]
      },
      {
       "output_type": "stream",
       "stream": "stdout",
       "text": [
        "\n",
        "{'z-min': 0, 'x-min': 0, 'x-max': 191, 'y-max': 955, 'filename': 'x0-y4', 'y-min': 68, 'z-max': 167}"
       ]
      },
      {
       "output_type": "stream",
       "stream": "stdout",
       "text": [
        "\n",
        "{'z-min': 0, 'x-min': 0, 'x-max': 191, 'y-max': 624, 'filename': 'x0-y5', 'y-min': 85, 'z-max': 167}"
       ]
      },
      {
       "output_type": "stream",
       "stream": "stdout",
       "text": [
        "\n",
        "{'z-min': 0, 'x-min': 17, 'x-max': 382, 'y-max': 191, 'filename': 'x1-y0', 'y-min': 0, 'z-max': 167}"
       ]
      },
      {
       "output_type": "stream",
       "stream": "stdout",
       "text": [
        "\n",
        "{'z-min': 0, 'x-min': 17, 'x-max': 382, 'y-max': 382, 'filename': 'x1-y1', 'y-min': 17, 'z-max': 167}"
       ]
      },
      {
       "output_type": "stream",
       "stream": "stdout",
       "text": [
        "\n",
        "{'z-min': 0, 'x-min': 17, 'x-max': 382, 'y-max': 573, 'filename': 'x1-y2', 'y-min': 34, 'z-max': 167}"
       ]
      },
      {
       "output_type": "stream",
       "stream": "stdout",
       "text": [
        "\n",
        "{'z-min': 0, 'x-min': 17, 'x-max': 382, 'y-max': 764, 'filename': 'x1-y3', 'y-min': 51, 'z-max': 167}"
       ]
      },
      {
       "output_type": "stream",
       "stream": "stdout",
       "text": [
        "\n",
        "{'z-min': 0, 'x-min': 17, 'x-max': 382, 'y-max': 955, 'filename': 'x1-y4', 'y-min': 68, 'z-max': 167}"
       ]
      },
      {
       "output_type": "stream",
       "stream": "stdout",
       "text": [
        "\n",
        "{'z-min': 0, 'x-min': 17, 'x-max': 382, 'y-max': 624, 'filename': 'x1-y5', 'y-min': 85, 'z-max': 167}"
       ]
      },
      {
       "output_type": "stream",
       "stream": "stdout",
       "text": [
        "\n",
        "{'z-min': 0, 'x-min': 34, 'x-max': 573, 'y-max': 191, 'filename': 'x2-y0', 'y-min': 0, 'z-max': 167}"
       ]
      },
      {
       "output_type": "stream",
       "stream": "stdout",
       "text": [
        "\n",
        "{'z-min': 0, 'x-min': 34, 'x-max': 573, 'y-max': 382, 'filename': 'x2-y1', 'y-min': 17, 'z-max': 167}"
       ]
      },
      {
       "output_type": "stream",
       "stream": "stdout",
       "text": [
        "\n",
        "{'z-min': 0, 'x-min': 34, 'x-max': 573, 'y-max': 573, 'filename': 'x2-y2', 'y-min': 34, 'z-max': 167}"
       ]
      },
      {
       "output_type": "stream",
       "stream": "stdout",
       "text": [
        "\n",
        "{'z-min': 0, 'x-min': 34, 'x-max': 573, 'y-max': 764, 'filename': 'x2-y3', 'y-min': 51, 'z-max': 167}"
       ]
      },
      {
       "output_type": "stream",
       "stream": "stdout",
       "text": [
        "\n",
        "{'z-min': 0, 'x-min': 34, 'x-max': 573, 'y-max': 955, 'filename': 'x2-y4', 'y-min': 68, 'z-max': 167}"
       ]
      },
      {
       "output_type": "stream",
       "stream": "stdout",
       "text": [
        "\n",
        "{'z-min': 0, 'x-min': 34, 'x-max': 573, 'y-max': 624, 'filename': 'x2-y5', 'y-min': 85, 'z-max': 167}"
       ]
      },
      {
       "output_type": "stream",
       "stream": "stdout",
       "text": [
        "\n",
        "{'z-min': 0, 'x-min': 51, 'x-max': 764, 'y-max': 191, 'filename': 'x3-y0', 'y-min': 0, 'z-max': 167}"
       ]
      },
      {
       "output_type": "stream",
       "stream": "stdout",
       "text": [
        "\n",
        "{'z-min': 0, 'x-min': 51, 'x-max': 764, 'y-max': 382, 'filename': 'x3-y1', 'y-min': 17, 'z-max': 167}"
       ]
      },
      {
       "output_type": "stream",
       "stream": "stdout",
       "text": [
        "\n",
        "{'z-min': 0, 'x-min': 51, 'x-max': 764, 'y-max': 573, 'filename': 'x3-y2', 'y-min': 34, 'z-max': 167}"
       ]
      },
      {
       "output_type": "stream",
       "stream": "stdout",
       "text": [
        "\n",
        "{'z-min': 0, 'x-min': 51, 'x-max': 764, 'y-max': 764, 'filename': 'x3-y3', 'y-min': 51, 'z-max': 167}"
       ]
      },
      {
       "output_type": "stream",
       "stream": "stdout",
       "text": [
        "\n",
        "{'z-min': 0, 'x-min': 51, 'x-max': 764, 'y-max': 955, 'filename': 'x3-y4', 'y-min': 68, 'z-max': 167}"
       ]
      },
      {
       "output_type": "stream",
       "stream": "stdout",
       "text": [
        "\n",
        "{'z-min': 0, 'x-min': 51, 'x-max': 764, 'y-max': 624, 'filename': 'x3-y5', 'y-min': 85, 'z-max': 167}"
       ]
      },
      {
       "output_type": "stream",
       "stream": "stdout",
       "text": [
        "\n",
        "{'z-min': 0, 'x-min': 68, 'x-max': 955, 'y-max': 191, 'filename': 'x4-y0', 'y-min': 0, 'z-max': 167}"
       ]
      },
      {
       "output_type": "stream",
       "stream": "stdout",
       "text": [
        "\n",
        "{'z-min': 0, 'x-min': 68, 'x-max': 955, 'y-max': 382, 'filename': 'x4-y1', 'y-min': 17, 'z-max': 167}"
       ]
      },
      {
       "output_type": "stream",
       "stream": "stdout",
       "text": [
        "\n",
        "{'z-min': 0, 'x-min': 68, 'x-max': 955, 'y-max': 573, 'filename': 'x4-y2', 'y-min': 34, 'z-max': 167}"
       ]
      },
      {
       "output_type": "stream",
       "stream": "stdout",
       "text": [
        "\n",
        "{'z-min': 0, 'x-min': 68, 'x-max': 955, 'y-max': 764, 'filename': 'x4-y3', 'y-min': 51, 'z-max': 167}"
       ]
      },
      {
       "output_type": "stream",
       "stream": "stdout",
       "text": [
        "\n",
        "{'z-min': 0, 'x-min': 68, 'x-max': 955, 'y-max': 955, 'filename': 'x4-y4', 'y-min': 68, 'z-max': 167}"
       ]
      },
      {
       "output_type": "stream",
       "stream": "stdout",
       "text": [
        "\n",
        "{'z-min': 0, 'x-min': 68, 'x-max': 955, 'y-max': 624, 'filename': 'x4-y5', 'y-min': 85, 'z-max': 167}"
       ]
      },
      {
       "output_type": "stream",
       "stream": "stdout",
       "text": [
        "\n",
        "{'z-min': 0, 'x-min': 85, 'x-max': 624, 'y-max': 191, 'filename': 'x5-y0', 'y-min': 0, 'z-max': 167}"
       ]
      },
      {
       "output_type": "stream",
       "stream": "stdout",
       "text": [
        "\n",
        "{'z-min': 0, 'x-min': 85, 'x-max': 624, 'y-max': 382, 'filename': 'x5-y1', 'y-min': 17, 'z-max': 167}"
       ]
      },
      {
       "output_type": "stream",
       "stream": "stdout",
       "text": [
        "\n",
        "{'z-min': 0, 'x-min': 85, 'x-max': 624, 'y-max': 573, 'filename': 'x5-y2', 'y-min': 34, 'z-max': 167}"
       ]
      },
      {
       "output_type": "stream",
       "stream": "stdout",
       "text": [
        "\n",
        "{'z-min': 0, 'x-min': 85, 'x-max': 624, 'y-max': 764, 'filename': 'x5-y3', 'y-min': 51, 'z-max': 167}"
       ]
      },
      {
       "output_type": "stream",
       "stream": "stdout",
       "text": [
        "\n",
        "{'z-min': 0, 'x-min': 85, 'x-max': 624, 'y-max': 955, 'filename': 'x5-y4', 'y-min': 68, 'z-max': 167}"
       ]
      },
      {
       "output_type": "stream",
       "stream": "stdout",
       "text": [
        "\n",
        "{'z-min': 0, 'x-min': 85, 'x-max': 624, 'y-max': 624, 'filename': 'x5-y5', 'y-min': 85, 'z-max': 167}"
       ]
      },
      {
       "output_type": "stream",
       "stream": "stdout",
       "text": [
        "\n"
       ]
      }
     ],
     "prompt_number": 5
    }
   ],
   "metadata": {}
  }
 ]
}