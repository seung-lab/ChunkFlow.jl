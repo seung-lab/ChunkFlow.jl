{
 "metadata": {
  "name": ""
 },
 "nbformat": 3,
 "nbformat_minor": 0,
 "worksheets": [
  {
   "cells": [
    {
     "cell_type": "code",
     "collapsed": false,
     "input": [
      "import numpy as np\n",
      "\n",
      "#%% parameters\n",
      "Dir = './data/x0-y0/'\n",
      "\n",
      "fname = 'stage11.1'\n",
      "\n",
      "#%% read volume\n",
      "prob = np.fromfile(Dir+fname, dtype='double')\n",
      "Nx,Ny,Nz = np.fromfile(Dir+fname+'.size', dtype='uint32')\n",
      "prob = prob.reshape((Nz,Ny,Nx))\n",
      "\n",
      "def cubic(t):\n",
      "    '''\n",
      "    compute the cubic\n",
      "    '''\n",
      "    return 4*(t-0.5)**3+0.5\n",
      "\n",
      "   \n",
      "#%% generate affinity graph by directly combine the probability volume\n",
      "affin = np.zeros((3,Nz,Ny,Nx), dtype='double')\n",
      "\n",
      "for k in range(Nz):\n",
      "    for j in range(Ny):\n",
      "        for i in range(Nx):\n",
      "            o=prob[k,j,i]            \n",
      "            if i==Nx-1:\n",
      "                x=o\n",
      "            else:\n",
      "                x=prob[k,j,i+1]\n",
      "            if j==Ny-1:\n",
      "                y=o\n",
      "            else:\n",
      "                y=prob[k,j+1,i]\n",
      "            if k==Nz-1:\n",
      "                z=o\n",
      "            else:\n",
      "                z=prob[k+1,j,i]\n",
      "            \n",
      "            affin[0,k,j,i] =np.sqrt(cubic(x)*cubic(o))\n",
      "            affin[1,k,j,i] =np.sqrt(cubic(y)*cubic(o))\n",
      "            affin[2,k,j,i] =np.sqrt(cubic(z)*cubic(o))\n",
      "            \n",
      "#affin2 = affin.transpose((3,2,1,0))\n",
      "#%% visualization\n",
      "\n",
      "\n",
      "#%% write the affinity graph\n",
      "affin.tofile( Dir + fname + '.affin.raw')\n",
      "\n",
      "#%% "
     ],
     "language": "python",
     "metadata": {},
     "outputs": []
    }
   ],
   "metadata": {}
  }
 ]
}